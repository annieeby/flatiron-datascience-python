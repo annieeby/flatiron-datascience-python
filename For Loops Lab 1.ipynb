{
 "cells": [
  {
   "cell_type": "code",
   "execution_count": 1,
   "metadata": {},
   "outputs": [],
   "source": [
    "import pandas\n",
    "file_name = './cities.xlsx'\n",
    "travel_df = pandas.read_excel(file_name)\n",
    "cities = travel_df.to_dict('records')"
   ]
  },
  {
   "cell_type": "code",
   "execution_count": 2,
   "metadata": {},
   "outputs": [
    {
     "data": {
      "text/html": [
       "<script>requirejs.config({paths: { 'plotly': ['https://cdn.plot.ly/plotly-latest.min']},});if(!window.Plotly) {{require(['plotly'],function(plotly) {window.Plotly=plotly;});}}</script>"
      ],
      "text/vnd.plotly.v1+html": [
       "<script>requirejs.config({paths: { 'plotly': ['https://cdn.plot.ly/plotly-latest.min']},});if(!window.Plotly) {{require(['plotly'],function(plotly) {window.Plotly=plotly;});}}</script>"
      ]
     },
     "metadata": {},
     "output_type": "display_data"
    },
    {
     "data": {
      "application/vnd.plotly.v1+json": {
       "data": [
        {
         "type": "bar",
         "uid": "aebd8512-db09-11e8-8942-34159e1c7ef8",
         "x": [
          "Solta",
          "Greenville",
          "Buenos Aires"
         ],
         "y": [
          1700,
          84554,
          13591863
         ]
        }
       ],
       "layout": {}
      },
      "text/html": [
       "<div id=\"621a0501-8f20-4cdb-8b06-dd9893c77ffc\" style=\"height: 525px; width: 100%;\" class=\"plotly-graph-div\"></div><script type=\"text/javascript\">require([\"plotly\"], function(Plotly) { window.PLOTLYENV=window.PLOTLYENV || {};window.PLOTLYENV.BASE_URL=\"https://plot.ly\";Plotly.newPlot(\"621a0501-8f20-4cdb-8b06-dd9893c77ffc\", [{\"x\": [\"Solta\", \"Greenville\", \"Buenos Aires\"], \"y\": [1700, 84554, 13591863], \"type\": \"bar\", \"uid\": \"af679386-db09-11e8-bd5d-34159e1c7ef8\"}], {}, {\"showLink\": true, \"linkText\": \"Export to plot.ly\"})});</script>"
      ],
      "text/vnd.plotly.v1+html": [
       "<div id=\"621a0501-8f20-4cdb-8b06-dd9893c77ffc\" style=\"height: 525px; width: 100%;\" class=\"plotly-graph-div\"></div><script type=\"text/javascript\">require([\"plotly\"], function(Plotly) { window.PLOTLYENV=window.PLOTLYENV || {};window.PLOTLYENV.BASE_URL=\"https://plot.ly\";Plotly.newPlot(\"621a0501-8f20-4cdb-8b06-dd9893c77ffc\", [{\"x\": [\"Solta\", \"Greenville\", \"Buenos Aires\"], \"y\": [1700, 84554, 13591863], \"type\": \"bar\", \"uid\": \"af679386-db09-11e8-bd5d-34159e1c7ef8\"}], {}, {\"showLink\": true, \"linkText\": \"Export to plot.ly\"})});</script>"
      ]
     },
     "metadata": {},
     "output_type": "display_data"
    }
   ],
   "source": [
    "import plotly\n",
    "\n",
    "plotly.offline.init_notebook_mode(connected=True)\n",
    "\n",
    "x_values = [cities[0]['City'], cities[1]['City'], cities[2]['City']]\n",
    "y_values = [cities[0]['Population'], cities[1]['Population'], cities[2]['Population']]\n",
    "trace_first_three_pops = {'x': x_values, 'y': y_values, 'type': 'bar'}\n",
    "plotly.offline.iplot([trace_first_three_pops])"
   ]
  },
  {
   "cell_type": "code",
   "execution_count": 3,
   "metadata": {},
   "outputs": [],
   "source": [
    "x_values = [cities[0]['City'], cities[1]['City'], cities[2]['City']]\n",
    "y_values = [cities[0]['Population'], cities[1]['Population'], cities[2]['Population']]"
   ]
  },
  {
   "cell_type": "code",
   "execution_count": 39,
   "metadata": {},
   "outputs": [
    {
     "data": {
      "text/plain": [
       "['Solta', 'Greenville', 'Buenos Aires']"
      ]
     },
     "execution_count": 39,
     "metadata": {},
     "output_type": "execute_result"
    }
   ],
   "source": [
    "x_values"
   ]
  },
  {
   "cell_type": "code",
   "execution_count": 38,
   "metadata": {},
   "outputs": [
    {
     "data": {
      "text/plain": [
       "[1700, 84554, 13591863]"
      ]
     },
     "execution_count": 38,
     "metadata": {},
     "output_type": "execute_result"
    }
   ],
   "source": [
    "y_values"
   ]
  },
  {
   "cell_type": "code",
   "execution_count": 5,
   "metadata": {},
   "outputs": [
    {
     "data": {
      "text/plain": [
       "[0, 1, 2, 3, 4, 5, 6, 7, 8, 9, 10, 11]"
      ]
     },
     "execution_count": 5,
     "metadata": {},
     "output_type": "execute_result"
    }
   ],
   "source": [
    "city_indices = list(range(len(cities)))\n",
    "city_indices # [0, 1, 2, 3, 4, 5, 6, 7, 8, 9, 10, 11]"
   ]
  },
  {
   "cell_type": "code",
   "execution_count": 6,
   "metadata": {},
   "outputs": [],
   "source": [
    "city_names = ['Buenos Aires',\n",
    " 'Toronto',\n",
    " 'Pyeongchang',\n",
    " 'Marakesh',\n",
    " 'Albuquerque',\n",
    " 'Los Cabos',\n",
    " 'Greenville',\n",
    " 'Archipelago Sea',\n",
    " 'Walla Walla Valley',\n",
    " 'Salina Island',\n",
    " 'Solta',\n",
    " 'Iguazu Falls']"
   ]
  },
  {
   "cell_type": "code",
   "execution_count": 62,
   "metadata": {},
   "outputs": [],
   "source": [
    "def names_and_ranks(city_indices, city_names):\n",
    "    names_and_ranks = []\n",
    "    list(map(lambda index, city : names_and_ranks.append(f'{index+1}. {city}'), city_indices, city_names))\n",
    "    return names_and_ranks\n",
    "\n",
    "#I know how to do this lambda way, not sure how to write out the long way!"
   ]
  },
  {
   "cell_type": "code",
   "execution_count": 63,
   "metadata": {},
   "outputs": [
    {
     "data": {
      "text/plain": [
       "['1. Buenos Aires',\n",
       " '2. Toronto',\n",
       " '3. Pyeongchang',\n",
       " '4. Marakesh',\n",
       " '5. Albuquerque',\n",
       " '6. Los Cabos',\n",
       " '7. Greenville',\n",
       " '8. Archipelago Sea',\n",
       " '9. Walla Walla Valley',\n",
       " '10. Salina Island',\n",
       " '11. Solta',\n",
       " '12. Iguazu Falls']"
      ]
     },
     "execution_count": 63,
     "metadata": {},
     "output_type": "execute_result"
    }
   ],
   "source": [
    "names_and_ranks(city_indices, city_names)"
   ]
  },
  {
   "cell_type": "code",
   "execution_count": 81,
   "metadata": {},
   "outputs": [],
   "source": [
    "city_populations = []"
   ]
  },
  {
   "cell_type": "code",
   "execution_count": 82,
   "metadata": {},
   "outputs": [],
   "source": [
    "def city_population(city_indices, cities):\n",
    "    \n",
    "    list(map(lambda index: city_populations.append(cities[index]['Population']), city_indices))\n",
    "    return city_populations"
   ]
  },
  {
   "cell_type": "code",
   "execution_count": 83,
   "metadata": {},
   "outputs": [
    {
     "data": {
      "text/plain": [
       "[1700,\n",
       " 84554,\n",
       " 13591863,\n",
       " 287651,\n",
       " 32237,\n",
       " 928850,\n",
       " 559277,\n",
       " 60000,\n",
       " 0,\n",
       " 4000,\n",
       " 630,\n",
       " 2581000]"
      ]
     },
     "execution_count": 83,
     "metadata": {},
     "output_type": "execute_result"
    }
   ],
   "source": [
    "city_population(city_indices, cities)"
   ]
  },
  {
   "cell_type": "code",
   "execution_count": 87,
   "metadata": {},
   "outputs": [
    {
     "data": {
      "text/plain": [
       "1700"
      ]
     },
     "execution_count": 87,
     "metadata": {},
     "output_type": "execute_result"
    }
   ],
   "source": [
    "city_populations[0] # 0"
   ]
  },
  {
   "cell_type": "code",
   "execution_count": 88,
   "metadata": {},
   "outputs": [
    {
     "data": {
      "text/plain": [
       "84554"
      ]
     },
     "execution_count": 88,
     "metadata": {},
     "output_type": "execute_result"
    }
   ],
   "source": [
    "city_populations[1]"
   ]
  },
  {
   "cell_type": "code",
   "execution_count": 89,
   "metadata": {},
   "outputs": [
    {
     "data": {
      "text/plain": [
       "2581000"
      ]
     },
     "execution_count": 89,
     "metadata": {},
     "output_type": "execute_result"
    }
   ],
   "source": [
    "city_populations[-1]"
   ]
  },
  {
   "cell_type": "code",
   "execution_count": null,
   "metadata": {},
   "outputs": [],
   "source": []
  }
 ],
 "metadata": {
  "kernelspec": {
   "display_name": "Python 3",
   "language": "python",
   "name": "python3"
  },
  "language_info": {
   "codemirror_mode": {
    "name": "ipython",
    "version": 3
   },
   "file_extension": ".py",
   "mimetype": "text/x-python",
   "name": "python",
   "nbconvert_exporter": "python",
   "pygments_lexer": "ipython3",
   "version": "3.6.5"
  }
 },
 "nbformat": 4,
 "nbformat_minor": 2
}
