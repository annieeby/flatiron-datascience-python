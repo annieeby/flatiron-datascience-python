{
 "cells": [
  {
   "cell_type": "code",
   "execution_count": 22,
   "metadata": {},
   "outputs": [
    {
     "name": "stdout",
     "output_type": "stream",
     "text": [
      "Requirement already satisfied: pandas in /anaconda3/lib/python3.6/site-packages (0.23.0)\n",
      "Requirement already satisfied: python-dateutil>=2.5.0 in /anaconda3/lib/python3.6/site-packages (from pandas) (2.7.3)\n",
      "Requirement already satisfied: pytz>=2011k in /anaconda3/lib/python3.6/site-packages (from pandas) (2018.4)\n",
      "Requirement already satisfied: numpy>=1.9.0 in /anaconda3/lib/python3.6/site-packages (from pandas) (1.14.3)\n",
      "Requirement already satisfied: six>=1.5 in /anaconda3/lib/python3.6/site-packages (from python-dateutil>=2.5.0->pandas) (1.11.0)\n",
      "Requirement already satisfied: xlrd in /anaconda3/lib/python3.6/site-packages (1.1.0)\n"
     ]
    }
   ],
   "source": [
    "!pip install pandas\n",
    "!pip install xlrd"
   ]
  },
  {
   "cell_type": "code",
   "execution_count": 23,
   "metadata": {},
   "outputs": [],
   "source": [
    "import pandas\n",
    "file_name = './cities.xlsx'\n",
    "travel_df = pandas.read_excel(file_name)\n",
    "cities = travel_df.to_dict('records')"
   ]
  },
  {
   "cell_type": "code",
   "execution_count": 24,
   "metadata": {},
   "outputs": [
    {
     "data": {
      "text/plain": [
       "[{'City': 'Solta', 'Country': 'Croatia', 'Population': 1700, 'Area': 59},\n",
       " {'City': 'Greenville', 'Country': 'USA', 'Population': 84554, 'Area': 68},\n",
       " {'City': 'Buenos Aires',\n",
       "  'Country': 'Argentina',\n",
       "  'Population': 13591863,\n",
       "  'Area': 4758},\n",
       " {'City': 'Los Cabos',\n",
       "  'Country': 'Mexico',\n",
       "  'Population': 287651,\n",
       "  'Area': 3750},\n",
       " {'City': 'Walla Walla Valley',\n",
       "  'Country': 'USA',\n",
       "  'Population': 32237,\n",
       "  'Area': 33},\n",
       " {'City': 'Marakesh', 'Country': 'Morocco', 'Population': 928850, 'Area': 200},\n",
       " {'City': 'Albuquerque',\n",
       "  'Country': 'New Mexico',\n",
       "  'Population': 559277,\n",
       "  'Area': 491},\n",
       " {'City': 'Archipelago Sea',\n",
       "  'Country': 'Finland',\n",
       "  'Population': 60000,\n",
       "  'Area': 8300},\n",
       " {'City': 'Iguazu Falls',\n",
       "  'Country': 'Argentina',\n",
       "  'Population': 0,\n",
       "  'Area': 672},\n",
       " {'City': 'Salina Island', 'Country': 'Italy', 'Population': 4000, 'Area': 27},\n",
       " {'City': 'Toronto', 'Country': 'Canada', 'Population': 630, 'Area': 2731571},\n",
       " {'City': 'Pyeongchang',\n",
       "  'Country': 'South Korea',\n",
       "  'Population': 2581000,\n",
       "  'Area': 3194}]"
      ]
     },
     "execution_count": 24,
     "metadata": {},
     "output_type": "execute_result"
    }
   ],
   "source": [
    "cities"
   ]
  },
  {
   "cell_type": "code",
   "execution_count": 25,
   "metadata": {},
   "outputs": [
    {
     "data": {
      "text/html": [
       "<script>requirejs.config({paths: { 'plotly': ['https://cdn.plot.ly/plotly-latest.min']},});if(!window.Plotly) {{require(['plotly'],function(plotly) {window.Plotly=plotly;});}}</script>"
      ],
      "text/vnd.plotly.v1+html": [
       "<script>requirejs.config({paths: { 'plotly': ['https://cdn.plot.ly/plotly-latest.min']},});if(!window.Plotly) {{require(['plotly'],function(plotly) {window.Plotly=plotly;});}}</script>"
      ]
     },
     "metadata": {},
     "output_type": "display_data"
    }
   ],
   "source": [
    "import plotly\n",
    "\n",
    "plotly.offline.init_notebook_mode(connected=True)\n",
    "# use offline mode to avoid initial registration"
   ]
  },
  {
   "cell_type": "code",
   "execution_count": 26,
   "metadata": {},
   "outputs": [],
   "source": [
    "x_values = [cities[0]['City'], cities[1]['City'], cities[2]['City']]"
   ]
  },
  {
   "cell_type": "code",
   "execution_count": 27,
   "metadata": {},
   "outputs": [],
   "source": [
    "y_values = [cities[0]['Population'], cities[1]['Population'], cities[2]['Population']]"
   ]
  },
  {
   "cell_type": "code",
   "execution_count": 28,
   "metadata": {},
   "outputs": [
    {
     "data": {
      "application/vnd.plotly.v1+json": {
       "data": [
        {
         "type": "scatter",
         "uid": "0b5e703a-ce5b-11e8-ad28-34159e1c7ef8",
         "x": [
          "Solta",
          "Greenville",
          "Buenos Aires"
         ],
         "y": [
          1700,
          84554,
          13591863
         ]
        }
       ],
       "layout": {}
      },
      "text/html": [
       "<div id=\"721dfc86-ba83-4366-b231-3f97571189ae\" style=\"height: 525px; width: 100%;\" class=\"plotly-graph-div\"></div><script type=\"text/javascript\">require([\"plotly\"], function(Plotly) { window.PLOTLYENV=window.PLOTLYENV || {};window.PLOTLYENV.BASE_URL=\"https://plot.ly\";Plotly.newPlot(\"721dfc86-ba83-4366-b231-3f97571189ae\", [{\"x\": [\"Solta\", \"Greenville\", \"Buenos Aires\"], \"y\": [1700, 84554, 13591863], \"type\": \"scatter\", \"uid\": \"0b65b234-ce5b-11e8-b516-34159e1c7ef8\"}], {}, {\"showLink\": true, \"linkText\": \"Export to plot.ly\"})});</script>"
      ],
      "text/vnd.plotly.v1+html": [
       "<div id=\"721dfc86-ba83-4366-b231-3f97571189ae\" style=\"height: 525px; width: 100%;\" class=\"plotly-graph-div\"></div><script type=\"text/javascript\">require([\"plotly\"], function(Plotly) { window.PLOTLYENV=window.PLOTLYENV || {};window.PLOTLYENV.BASE_URL=\"https://plot.ly\";Plotly.newPlot(\"721dfc86-ba83-4366-b231-3f97571189ae\", [{\"x\": [\"Solta\", \"Greenville\", \"Buenos Aires\"], \"y\": [1700, 84554, 13591863], \"type\": \"scatter\", \"uid\": \"0b65b234-ce5b-11e8-b516-34159e1c7ef8\"}], {}, {\"showLink\": true, \"linkText\": \"Export to plot.ly\"})});</script>"
      ]
     },
     "metadata": {},
     "output_type": "display_data"
    }
   ],
   "source": [
    "trace_first_three_pops = {'x': x_values, 'y': y_values}\n",
    "\n",
    "\n",
    "plotly.offline.iplot([trace_first_three_pops])"
   ]
  },
  {
   "cell_type": "code",
   "execution_count": 35,
   "metadata": {},
   "outputs": [],
   "source": [
    "text_values = [\"Solta\", \"Greenville\", \"Buenos Aires\"]"
   ]
  },
  {
   "cell_type": "code",
   "execution_count": 36,
   "metadata": {},
   "outputs": [],
   "source": [
    "text_values = []\n",
    "bar_trace_first_three_pops = {'type': 'scatter', 'text': text_values}"
   ]
  },
  {
   "cell_type": "code",
   "execution_count": 37,
   "metadata": {
    "scrolled": true
   },
   "outputs": [
    {
     "data": {
      "text/plain": [
       "'scatter'"
      ]
     },
     "execution_count": 37,
     "metadata": {},
     "output_type": "execute_result"
    }
   ],
   "source": [
    "bar_trace_first_three_pops['type'] "
   ]
  },
  {
   "cell_type": "code",
   "execution_count": 38,
   "metadata": {},
   "outputs": [
    {
     "data": {
      "application/vnd.plotly.v1+json": {
       "data": [
        {
         "text": [],
         "type": "scatter",
         "uid": "a3a19ea8-ce5b-11e8-88b2-34159e1c7ef8"
        }
       ],
       "layout": {}
      },
      "text/html": [
       "<div id=\"0ee1045d-24c9-403d-ac6b-9f58ee32d69d\" style=\"height: 525px; width: 100%;\" class=\"plotly-graph-div\"></div><script type=\"text/javascript\">require([\"plotly\"], function(Plotly) { window.PLOTLYENV=window.PLOTLYENV || {};window.PLOTLYENV.BASE_URL=\"https://plot.ly\";Plotly.newPlot(\"0ee1045d-24c9-403d-ac6b-9f58ee32d69d\", [{\"text\": [], \"type\": \"scatter\", \"uid\": \"a3a86dc8-ce5b-11e8-9d77-34159e1c7ef8\"}], {}, {\"showLink\": true, \"linkText\": \"Export to plot.ly\"})});</script>"
      ],
      "text/vnd.plotly.v1+html": [
       "<div id=\"0ee1045d-24c9-403d-ac6b-9f58ee32d69d\" style=\"height: 525px; width: 100%;\" class=\"plotly-graph-div\"></div><script type=\"text/javascript\">require([\"plotly\"], function(Plotly) { window.PLOTLYENV=window.PLOTLYENV || {};window.PLOTLYENV.BASE_URL=\"https://plot.ly\";Plotly.newPlot(\"0ee1045d-24c9-403d-ac6b-9f58ee32d69d\", [{\"text\": [], \"type\": \"scatter\", \"uid\": \"a3a86dc8-ce5b-11e8-9d77-34159e1c7ef8\"}], {}, {\"showLink\": true, \"linkText\": \"Export to plot.ly\"})});</script>"
      ]
     },
     "metadata": {},
     "output_type": "display_data"
    }
   ],
   "source": [
    "plotly.offline.iplot([bar_trace_first_three_pops])"
   ]
  },
  {
   "cell_type": "code",
   "execution_count": 43,
   "metadata": {},
   "outputs": [],
   "source": [
    "y_values_area = [cities[0]['Area'], cities[1]['Area'], cities[2]['Area']]"
   ]
  },
  {
   "cell_type": "code",
   "execution_count": 46,
   "metadata": {},
   "outputs": [],
   "source": [
    "bar_trace_first_three_areas = {'type': 'scatter', 'x': [x_values], 'y': [y_values_area], 'text': ['Area']}\n",
    "bar_trace_first_three_pops = {'type': 'scatter', 'x': [x_values], 'y': [y_values], 'text': ['Population']}"
   ]
  },
  {
   "cell_type": "code",
   "execution_count": 47,
   "metadata": {},
   "outputs": [
    {
     "data": {
      "application/vnd.plotly.v1+json": {
       "data": [
        {
         "text": [
          "Population"
         ],
         "type": "scatter",
         "uid": "55b8589c-ce5d-11e8-aa88-34159e1c7ef8",
         "x": [
          [
           "Solta",
           "Greenville",
           "Buenos Aires"
          ]
         ],
         "y": [
          [
           59,
           68,
           4758
          ]
         ]
        },
        {
         "text": [
          "Area"
         ],
         "type": "scatter",
         "uid": "55b88434-ce5d-11e8-9009-34159e1c7ef8",
         "x": [
          [
           "Solta",
           "Greenville",
           "Buenos Aires"
          ]
         ],
         "y": [
          [
           59,
           68,
           4758
          ]
         ]
        }
       ],
       "layout": {}
      },
      "text/html": [
       "<div id=\"72c3b73d-6a99-4c6a-9dd2-3a8fcf8a6123\" style=\"height: 525px; width: 100%;\" class=\"plotly-graph-div\"></div><script type=\"text/javascript\">require([\"plotly\"], function(Plotly) { window.PLOTLYENV=window.PLOTLYENV || {};window.PLOTLYENV.BASE_URL=\"https://plot.ly\";Plotly.newPlot(\"72c3b73d-6a99-4c6a-9dd2-3a8fcf8a6123\", [{\"text\": [\"Population\"], \"x\": [[\"Solta\", \"Greenville\", \"Buenos Aires\"]], \"y\": [[59, 68, 4758]], \"type\": \"scatter\", \"uid\": \"55c13f66-ce5d-11e8-aaa6-34159e1c7ef8\"}, {\"text\": [\"Area\"], \"x\": [[\"Solta\", \"Greenville\", \"Buenos Aires\"]], \"y\": [[59, 68, 4758]], \"type\": \"scatter\", \"uid\": \"55c1429a-ce5d-11e8-a347-34159e1c7ef8\"}], {}, {\"showLink\": true, \"linkText\": \"Export to plot.ly\"})});</script>"
      ],
      "text/vnd.plotly.v1+html": [
       "<div id=\"72c3b73d-6a99-4c6a-9dd2-3a8fcf8a6123\" style=\"height: 525px; width: 100%;\" class=\"plotly-graph-div\"></div><script type=\"text/javascript\">require([\"plotly\"], function(Plotly) { window.PLOTLYENV=window.PLOTLYENV || {};window.PLOTLYENV.BASE_URL=\"https://plot.ly\";Plotly.newPlot(\"72c3b73d-6a99-4c6a-9dd2-3a8fcf8a6123\", [{\"text\": [\"Population\"], \"x\": [[\"Solta\", \"Greenville\", \"Buenos Aires\"]], \"y\": [[59, 68, 4758]], \"type\": \"scatter\", \"uid\": \"55c13f66-ce5d-11e8-aaa6-34159e1c7ef8\"}, {\"text\": [\"Area\"], \"x\": [[\"Solta\", \"Greenville\", \"Buenos Aires\"]], \"y\": [[59, 68, 4758]], \"type\": \"scatter\", \"uid\": \"55c1429a-ce5d-11e8-a347-34159e1c7ef8\"}], {}, {\"showLink\": true, \"linkText\": \"Export to plot.ly\"})});</script>"
      ]
     },
     "metadata": {},
     "output_type": "display_data"
    }
   ],
   "source": [
    "plotly.offline.iplot([bar_trace_first_three_pops, bar_trace_first_three_areas])"
   ]
  },
  {
   "cell_type": "code",
   "execution_count": null,
   "metadata": {},
   "outputs": [],
   "source": []
  }
 ],
 "metadata": {
  "kernelspec": {
   "display_name": "Python 3",
   "language": "python",
   "name": "python3"
  },
  "language_info": {
   "codemirror_mode": {
    "name": "ipython",
    "version": 3
   },
   "file_extension": ".py",
   "mimetype": "text/x-python",
   "name": "python",
   "nbconvert_exporter": "python",
   "pygments_lexer": "ipython3",
   "version": "3.6.5"
  }
 },
 "nbformat": 4,
 "nbformat_minor": 2
}
