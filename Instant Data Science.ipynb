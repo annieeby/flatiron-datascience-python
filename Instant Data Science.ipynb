{
 "cells": [
  {
   "cell_type": "code",
   "execution_count": 25,
   "metadata": {},
   "outputs": [],
   "source": [
    "lyrics = \"Ah, Ba Ba Ba Ba Barbara Ann Ba Ba Ba Ba Barbara Ann Oh Barbara Ann Take My Hand Barbara Ann You Got Me Rockin' And A-Rollin' Rockin' And A-Reelin' Barbara Ann Ba Ba Ba Barbara Ann ...More Lyrics... Ba Ba Ba Ba Barbara Ann Ba Ba Ba Ba Barbara Ann\""
   ]
  },
  {
   "cell_type": "code",
   "execution_count": 26,
   "metadata": {},
   "outputs": [
    {
     "data": {
      "text/plain": [
       "\"Ah, Ba Ba Ba Ba Barbara Ann Ba Ba Ba Ba Barbara Ann Oh Barbara Ann Take My Hand Barbara Ann You Got Me Rockin' And A-Rollin' Rockin' And A-Reelin' Barbara Ann Ba Ba Ba Barbara Ann ...More Lyrics... Ba Ba Ba Ba Barbara Ann Ba Ba Ba Ba Barbara Ann\""
      ]
     },
     "execution_count": 26,
     "metadata": {},
     "output_type": "execute_result"
    }
   ],
   "source": [
    "lyrics"
   ]
  },
  {
   "cell_type": "code",
   "execution_count": 3,
   "metadata": {},
   "outputs": [],
   "source": [
    "list_of_lyrics = lyrics.split(' ')"
   ]
  },
  {
   "cell_type": "code",
   "execution_count": 4,
   "metadata": {},
   "outputs": [
    {
     "data": {
      "text/plain": [
       "['Ah,',\n",
       " 'Ba',\n",
       " 'Ba',\n",
       " 'Ba',\n",
       " 'Ba',\n",
       " 'Barbara',\n",
       " 'Ann',\n",
       " 'Ba',\n",
       " 'Ba',\n",
       " 'Ba',\n",
       " 'Ba',\n",
       " 'Barbara',\n",
       " 'Ann',\n",
       " 'Oh',\n",
       " 'Barbara',\n",
       " 'Ann',\n",
       " 'Take',\n",
       " 'My',\n",
       " 'Hand',\n",
       " 'Barbara',\n",
       " 'Ann',\n",
       " 'You',\n",
       " 'Got',\n",
       " 'Me',\n",
       " \"Rockin'\",\n",
       " 'And',\n",
       " \"A-Rollin'\",\n",
       " \"Rockin'\",\n",
       " 'And',\n",
       " \"A-Reelin'\",\n",
       " 'Barbara',\n",
       " 'Ann',\n",
       " 'Ba',\n",
       " 'Ba',\n",
       " 'Ba',\n",
       " 'Barbara',\n",
       " 'Ann',\n",
       " '...More',\n",
       " 'Lyrics...',\n",
       " 'Ba',\n",
       " 'Ba',\n",
       " 'Ba',\n",
       " 'Ba',\n",
       " 'Barbara',\n",
       " 'Ann',\n",
       " 'Ba',\n",
       " 'Ba',\n",
       " 'Ba',\n",
       " 'Ba',\n",
       " 'Barbara',\n",
       " 'Ann']"
      ]
     },
     "execution_count": 4,
     "metadata": {},
     "output_type": "execute_result"
    }
   ],
   "source": [
    "list_of_lyrics"
   ]
  },
  {
   "cell_type": "code",
   "execution_count": 5,
   "metadata": {},
   "outputs": [
    {
     "data": {
      "text/plain": [
       "51"
      ]
     },
     "execution_count": 5,
     "metadata": {},
     "output_type": "execute_result"
    }
   ],
   "source": [
    "len(list_of_lyrics)"
   ]
  },
  {
   "cell_type": "code",
   "execution_count": 6,
   "metadata": {},
   "outputs": [],
   "source": [
    "unique_words = set(list_of_lyrics)"
   ]
  },
  {
   "cell_type": "code",
   "execution_count": 7,
   "metadata": {},
   "outputs": [
    {
     "data": {
      "text/plain": [
       "{'...More',\n",
       " \"A-Reelin'\",\n",
       " \"A-Rollin'\",\n",
       " 'Ah,',\n",
       " 'And',\n",
       " 'Ann',\n",
       " 'Ba',\n",
       " 'Barbara',\n",
       " 'Got',\n",
       " 'Hand',\n",
       " 'Lyrics...',\n",
       " 'Me',\n",
       " 'My',\n",
       " 'Oh',\n",
       " \"Rockin'\",\n",
       " 'Take',\n",
       " 'You'}"
      ]
     },
     "execution_count": 7,
     "metadata": {},
     "output_type": "execute_result"
    }
   ],
   "source": [
    "unique_words"
   ]
  },
  {
   "cell_type": "code",
   "execution_count": 8,
   "metadata": {},
   "outputs": [
    {
     "data": {
      "text/plain": [
       "17"
      ]
     },
     "execution_count": 8,
     "metadata": {},
     "output_type": "execute_result"
    }
   ],
   "source": [
    "len(unique_words)"
   ]
  },
  {
   "cell_type": "code",
   "execution_count": 9,
   "metadata": {},
   "outputs": [],
   "source": [
    "word_histogram = dict.fromkeys(unique_words, 0)"
   ]
  },
  {
   "cell_type": "code",
   "execution_count": 10,
   "metadata": {},
   "outputs": [
    {
     "data": {
      "text/plain": [
       "{'Take': 0,\n",
       " 'Got': 0,\n",
       " 'Me': 0,\n",
       " 'My': 0,\n",
       " '...More': 0,\n",
       " 'Ah,': 0,\n",
       " 'Ann': 0,\n",
       " 'Oh': 0,\n",
       " \"Rockin'\": 0,\n",
       " 'And': 0,\n",
       " 'Lyrics...': 0,\n",
       " 'Hand': 0,\n",
       " 'Barbara': 0,\n",
       " \"A-Reelin'\": 0,\n",
       " 'Ba': 0,\n",
       " \"A-Rollin'\": 0,\n",
       " 'You': 0}"
      ]
     },
     "execution_count": 10,
     "metadata": {},
     "output_type": "execute_result"
    }
   ],
   "source": [
    "word_histogram"
   ]
  },
  {
   "cell_type": "code",
   "execution_count": 11,
   "metadata": {},
   "outputs": [],
   "source": [
    "word_histogram = dict.fromkeys(unique_words, 0)\n",
    "for word in list_of_lyrics:\n",
    "    word_histogram[word] = word_histogram[word]+ 1"
   ]
  },
  {
   "cell_type": "code",
   "execution_count": 12,
   "metadata": {},
   "outputs": [
    {
     "data": {
      "text/plain": [
       "{'Take': 1,\n",
       " 'Got': 1,\n",
       " 'Me': 1,\n",
       " 'My': 1,\n",
       " '...More': 1,\n",
       " 'Ah,': 1,\n",
       " 'Ann': 8,\n",
       " 'Oh': 1,\n",
       " \"Rockin'\": 2,\n",
       " 'And': 2,\n",
       " 'Lyrics...': 1,\n",
       " 'Hand': 1,\n",
       " 'Barbara': 8,\n",
       " \"A-Reelin'\": 1,\n",
       " 'Ba': 19,\n",
       " \"A-Rollin'\": 1,\n",
       " 'You': 1}"
      ]
     },
     "execution_count": 12,
     "metadata": {},
     "output_type": "execute_result"
    }
   ],
   "source": [
    "word_histogram"
   ]
  },
  {
   "cell_type": "code",
   "execution_count": 13,
   "metadata": {},
   "outputs": [
    {
     "data": {
      "text/plain": [
       "2"
      ]
     },
     "execution_count": 13,
     "metadata": {},
     "output_type": "execute_result"
    }
   ],
   "source": [
    "word_histogram[\"Rockin'\"]"
   ]
  },
  {
   "cell_type": "code",
   "execution_count": 28,
   "metadata": {},
   "outputs": [
    {
     "data": {
      "text/html": [
       "<script>requirejs.config({paths: { 'plotly': ['https://cdn.plot.ly/plotly-latest.min']},});if(!window.Plotly) {{require(['plotly'],function(plotly) {window.Plotly=plotly;});}}</script>"
      ],
      "text/vnd.plotly.v1+html": [
       "<script>requirejs.config({paths: { 'plotly': ['https://cdn.plot.ly/plotly-latest.min']},});if(!window.Plotly) {{require(['plotly'],function(plotly) {window.Plotly=plotly;});}}</script>"
      ]
     },
     "metadata": {},
     "output_type": "display_data"
    },
    {
     "data": {
      "application/vnd.plotly.v1+json": {
       "data": [
        {
         "type": "bar",
         "uid": "3b1f5fd0-cd81-11e8-9b9d-34159e1c7ef8",
         "x": [
          "Take",
          "Got",
          "Me",
          "My",
          "...More",
          "Ah,",
          "Ann",
          "Oh",
          "Rockin'",
          "And",
          "Lyrics...",
          "Hand",
          "Barbara",
          "A-Reelin'",
          "Ba",
          "A-Rollin'",
          "You"
         ],
         "y": [
          1,
          1,
          1,
          1,
          1,
          1,
          8,
          1,
          2,
          2,
          1,
          1,
          8,
          1,
          19,
          1,
          1
         ]
        }
       ],
       "layout": {}
      },
      "text/html": [
       "<div id=\"3cb335c8-0eb9-4ed5-85db-bde32628b645\" style=\"height: 525px; width: 100%;\" class=\"plotly-graph-div\"></div><script type=\"text/javascript\">require([\"plotly\"], function(Plotly) { window.PLOTLYENV=window.PLOTLYENV || {};window.PLOTLYENV.BASE_URL=\"https://plot.ly\";Plotly.newPlot(\"3cb335c8-0eb9-4ed5-85db-bde32628b645\", [{\"x\": [\"Take\", \"Got\", \"Me\", \"My\", \"...More\", \"Ah,\", \"Ann\", \"Oh\", \"Rockin'\", \"And\", \"Lyrics...\", \"Hand\", \"Barbara\", \"A-Reelin'\", \"Ba\", \"A-Rollin'\", \"You\"], \"y\": [1, 1, 1, 1, 1, 1, 8, 1, 2, 2, 1, 1, 8, 1, 19, 1, 1], \"type\": \"bar\", \"uid\": \"3b25f548-cd81-11e8-b8fd-34159e1c7ef8\"}], {}, {\"showLink\": true, \"linkText\": \"Export to plot.ly\"})});</script>"
      ],
      "text/vnd.plotly.v1+html": [
       "<div id=\"3cb335c8-0eb9-4ed5-85db-bde32628b645\" style=\"height: 525px; width: 100%;\" class=\"plotly-graph-div\"></div><script type=\"text/javascript\">require([\"plotly\"], function(Plotly) { window.PLOTLYENV=window.PLOTLYENV || {};window.PLOTLYENV.BASE_URL=\"https://plot.ly\";Plotly.newPlot(\"3cb335c8-0eb9-4ed5-85db-bde32628b645\", [{\"x\": [\"Take\", \"Got\", \"Me\", \"My\", \"...More\", \"Ah,\", \"Ann\", \"Oh\", \"Rockin'\", \"And\", \"Lyrics...\", \"Hand\", \"Barbara\", \"A-Reelin'\", \"Ba\", \"A-Rollin'\", \"You\"], \"y\": [1, 1, 1, 1, 1, 1, 8, 1, 2, 2, 1, 1, 8, 1, 19, 1, 1], \"type\": \"bar\", \"uid\": \"3b25f548-cd81-11e8-b8fd-34159e1c7ef8\"}], {}, {\"showLink\": true, \"linkText\": \"Export to plot.ly\"})});</script>"
      ]
     },
     "metadata": {},
     "output_type": "display_data"
    }
   ],
   "source": [
    "import plotly\n",
    "from plotly.offline import iplot, init_notebook_mode\n",
    "from plotly import tools\n",
    "import plotly.graph_objs as go\n",
    "init_notebook_mode(connected=True)\n",
    " \n",
    "trace = {'type': 'bar', 'x': list(unique_words), 'y': list(word_histogram.values())}\n",
    " \n",
    "plotly.offline.iplot({'data': [trace]})"
   ]
  }
 ],
 "metadata": {
  "kernelspec": {
   "display_name": "Python 3",
   "language": "python",
   "name": "python3"
  },
  "language_info": {
   "codemirror_mode": {
    "name": "ipython",
    "version": 3
   },
   "file_extension": ".py",
   "mimetype": "text/x-python",
   "name": "python",
   "nbconvert_exporter": "python",
   "pygments_lexer": "ipython3",
   "version": "3.6.5"
  }
 },
 "nbformat": 4,
 "nbformat_minor": 2
}
