{
 "cells": [
  {
   "cell_type": "code",
   "execution_count": 1,
   "metadata": {},
   "outputs": [],
   "source": [
    "yelp_restaurants = [{\"id\": \"fork-and-fig-albuquerque\", \"name\": \"Fork & Fig\", \"image_url\": \"https://s3-media1.fl.yelpcdn.com/bphoto/_-DpXKfS3jv6DyA47g6Fxg/o.jpg\", \"is_closed\": False, \"url\": \"https://www.yelp.com/biz/fork-and-fig-albuquerque?adjust_creative=SYc8R4Gowqru5h4SBKZXsQ&utm_campaign=yelp_api_v3&utm_medium=api_v3_business_search&utm_source=SYc8R4Gowqru5h4SBKZXsQ\", \"review_count\": 610, \"categories\": [{\"alias\": \"burgers\", \"title\": \"Burgers\"}, {\"alias\": \"sandwiches\", \"title\": \"Sandwiches\"}, {\"alias\": \"salad\", \"title\": \"Salad\"}], \"rating\": 4.5, \"coordinates\": {\"latitude\": 35.10871, \"longitude\": -106.56739}, \"transactions\": [], \"price\": \"$$\", \"location\": {\"address1\": \"6904 Menaul Blvd NE\", \"address2\": \"Ste C\", \"address3\": \"\", \"city\": \"Albuquerque\", \"zip_code\": \"87110\", \"country\": \"US\", \"state\": \"NM\", \"display_address\": [\"6904 Menaul Blvd NE\", \"Ste C\", \"Albuquerque, NM 87110\"]}, \"phone\": \"+15058815293\", \"display_phone\": \"(505) 881-5293\", \"distance\": 3571.724649307866}, {\"id\": \"salt-and-board-albuquerque-4\", \"name\": \"Salt And Board\", \"image_url\": \"https://s3-media2.fl.yelpcdn.com/bphoto/wXUdc0JpE1zfu5hQL7FgEA/o.jpg\", \"is_closed\": False, \"url\": \"https://www.yelp.com/biz/salt-and-board-albuquerque-4?adjust_creative=SYc8R4Gowqru5h4SBKZXsQ&utm_campaign=yelp_api_v3&utm_medium=api_v3_business_search&utm_source=SYc8R4Gowqru5h4SBKZXsQ\", \"review_count\": 11, \"categories\": [{\"alias\": \"gastropubs\", \"title\": \"Gastropubs\"}], \"rating\": 4.5, \"coordinates\": {\"latitude\": 35.08024, \"longitude\": -106.62102}, \"transactions\": [], \"price\": \"$$\", \"location\": {\"address1\": \"115 Harvard Dr SE\", \"address2\": \"Ste 9\", \"address3\": None, \"city\": \"Albuquerque\", \"zip_code\": \"87106\", \"country\": \"US\", \"state\": \"NM\", \"display_address\": [\"115 Harvard Dr SE\", \"Ste 9\", \"Albuquerque, NM 87106\"]}, \"phone\": \"+15052192001\", \"display_phone\": \"(505) 219-2001\", \"distance\": 4150.24879173833}, {\"id\": \"frontier-restaurant-albuquerque-2\", \"name\": \"Frontier Restaurant\", \"image_url\": \"https://s3-media4.fl.yelpcdn.com/bphoto/M9L2z6-G0NobuDJ6YTh6VA/o.jpg\", \"is_closed\": False, \"url\": \"https://www.yelp.com/biz/frontier-restaurant-albuquerque-2?adjust_creative=SYc8R4Gowqru5h4SBKZXsQ&utm_campaign=yelp_api_v3&utm_medium=api_v3_business_search&utm_source=SYc8R4Gowqru5h4SBKZXsQ\", \"review_count\": 1373, \"categories\": [{\"alias\": \"mexican\", \"title\": \"Mexican\"}, {\"alias\": \"diners\", \"title\": \"Diners\"}, {\"alias\": \"tradamerican\", \"title\": \"American (Traditional)\"}], \"rating\": 4.0, \"coordinates\": {\"latitude\": 35.0808088832532, \"longitude\": -106.619402244687}, \"transactions\": [], \"price\": \"$\", \"location\": {\"address1\": \"2400 Central Ave SE\", \"address2\": \"\", \"address3\": \"\", \"city\": \"Albuquerque\", \"zip_code\": \"87106\", \"country\": \"US\", \"state\": \"NM\", \"display_address\": [\"2400 Central Ave SE\", \"Albuquerque, NM 87106\"]}, \"phone\": \"+15052660550\", \"display_phone\": \"(505) 266-0550\", \"distance\": 4033.6583235266075}, {\"id\": \"nexus-brewery-albuquerque\", \"name\": \"Nexus Brewery\", \"image_url\": \"https://s3-media3.fl.yelpcdn.com/bphoto/RVRi4k4gCiEmlMaooWxvOA/o.jpg\", \"is_closed\": False, \"url\": \"https://www.yelp.com/biz/nexus-brewery-albuquerque?adjust_creative=SYc8R4Gowqru5h4SBKZXsQ&utm_campaign=yelp_api_v3&utm_medium=api_v3_business_search&utm_source=SYc8R4Gowqru5h4SBKZXsQ\", \"review_count\": 680, \"categories\": [{\"alias\": \"breweries\", \"title\": \"Breweries\"}, {\"alias\": \"soulfood\", \"title\": \"Soul Food\"}, {\"alias\": \"southern\", \"title\": \"Southern\"}], \"rating\": 4.0, \"coordinates\": {\"latitude\": 35.13372, \"longitude\": -106.606624}, \"transactions\": [], \"price\": \"$$\", \"location\": {\"address1\": \"4730 Pan American E Fwy NE\", \"address2\": \"Ste D\", \"address3\": \"\", \"city\": \"Albuquerque\", \"zip_code\": \"87109\", \"country\": \"US\", \"state\": \"NM\", \"display_address\": [\"4730 Pan American E Fwy NE\", \"Ste D\", \"Albuquerque, NM 87109\"]}, \"phone\": \"+15052424100\", \"display_phone\": \"(505) 242-4100\", \"distance\": 2045.729083083992}, {\"id\": \"devons-pop-smoke-albuquerque\", \"name\": \"Devon's Pop Smoke\", \"image_url\": \"https://s3-media1.fl.yelpcdn.com/bphoto/OfmCIETYvaZ7dYBC3lidvg/o.jpg\", \"is_closed\": False, \"url\": \"https://www.yelp.com/biz/devons-pop-smoke-albuquerque?adjust_creative=SYc8R4Gowqru5h4SBKZXsQ&utm_campaign=yelp_api_v3&utm_medium=api_v3_business_search&utm_source=SYc8R4Gowqru5h4SBKZXsQ\", \"review_count\": 54, \"categories\": [{\"alias\": \"gastropubs\", \"title\": \"Gastropubs\"}], \"rating\": 4.0, \"coordinates\": {\"latitude\": 35.1450414451006, \"longitude\": -106.58143222332}, \"transactions\": [], \"price\": \"$$\", \"location\": {\"address1\": \"6001 Osuna Rd NE\", \"address2\": \"\", \"address3\": None, \"city\": \"Albuquerque\", \"zip_code\": \"87109\", \"country\": \"US\", \"state\": \"NM\", \"display_address\": [\"6001 Osuna Rd NE\", \"Albuquerque, NM 87109\"]}, \"phone\": \"+15055082829\", \"display_phone\": \"(505) 508-2829\", \"distance\": 3977.603085912232}, {\"id\": \"cocina-azul-albuquerque-2\", \"name\": \"Cocina Azul\", \"image_url\": \"https://s3-media4.fl.yelpcdn.com/bphoto/nYOAd4cMbQH1sm3eB-NL5A/o.jpg\", \"is_closed\": True, \"url\": \"https://www.yelp.com/biz/cocina-azul-albuquerque-2?adjust_creative=SYc8R4Gowqru5h4SBKZXsQ&utm_campaign=yelp_api_v3&utm_medium=api_v3_business_search&utm_source=SYc8R4Gowqru5h4SBKZXsQ\", \"review_count\": 647, \"categories\": [{\"alias\": \"newmexican\", \"title\": \"New Mexican Cuisine\"}], \"rating\": 4.5, \"coordinates\": {\"latitude\": 35.095403, \"longitude\": -106.658516}, \"transactions\": [\"pickup\", \"delivery\"], \"price\": \"$$\", \"location\": {\"address1\": \"1134 Mountain Rd NW\", \"address2\": None, \"address3\": \"\", \"city\": \"Albuquerque\", \"zip_code\": \"87102\", \"country\": \"US\", \"state\": \"NM\", \"display_address\": [\"1134 Mountain Rd NW\", \"Albuquerque, NM 87102\"]}, \"phone\": \"+15058312500\", \"display_phone\": \"(505) 831-2500\", \"distance\": 5283.005357137309}, {\"id\": \"philly-steaks-albuquerque\", \"name\": \"Philly Steaks\", \"image_url\": \"https://s3-media2.fl.yelpcdn.com/bphoto/jtI7kcSBifi9Qs8IK8EvCg/o.jpg\", \"is_closed\": False, \"url\": \"https://www.yelp.com/biz/philly-steaks-albuquerque?adjust_creative=SYc8R4Gowqru5h4SBKZXsQ&utm_campaign=yelp_api_v3&utm_medium=api_v3_business_search&utm_source=SYc8R4Gowqru5h4SBKZXsQ\", \"review_count\": 25, \"categories\": [{\"alias\": \"cheesesteaks\", \"title\": \"Cheesesteaks\"}, {\"alias\": \"sandwiches\", \"title\": \"Sandwiches\"}, {\"alias\": \"burgers\", \"title\": \"Burgers\"}], \"rating\": 4.5, \"coordinates\": {\"latitude\": 35.1123000013551, \"longitude\": -106.515109911561}, \"transactions\": [], \"price\": \"$$\", \"location\": {\"address1\": \"2520 Juan Tabo NE\", \"address2\": \"Ste C\", \"address3\": None, \"city\": \"Albuquerque\", \"zip_code\": \"87112\", \"country\": \"US\", \"state\": \"NM\", \"display_address\": [\"2520 Juan Tabo NE\", \"Ste C\", \"Albuquerque, NM 87112\"]}, \"phone\": \"+15055822527\", \"display_phone\": \"(505) 582-2527\", \"distance\": 8255.770353006516}, {\"id\": \"stripes-biscuit-albuquerque\", \"name\": \"Stripes Biscuit\", \"image_url\": \"https://s3-media2.fl.yelpcdn.com/bphoto/UPxZj-wPyXvUa-5NO8MGEA/o.jpg\", \"is_closed\": True, \"url\": \"https://www.yelp.com/biz/stripes-biscuit-albuquerque?adjust_creative=SYc8R4Gowqru5h4SBKZXsQ&utm_campaign=yelp_api_v3&utm_medium=api_v3_business_search&utm_source=SYc8R4Gowqru5h4SBKZXsQ\", \"review_count\": 20, \"categories\": [{\"alias\": \"breakfast_brunch\", \"title\": \"Breakfast & Brunch\"}, {\"alias\": \"newmexican\", \"title\": \"New Mexican Cuisine\"}], \"rating\": 4.5, \"coordinates\": {\"latitude\": 35.0564674514096, \"longitude\": -106.579337431337}, \"transactions\": [], \"price\": \"$$\", \"location\": {\"address1\": \"5701 Gibson Blvd SE\", \"address2\": \"\", \"address3\": None, \"city\": \"Albuquerque\", \"zip_code\": \"87108\", \"country\": \"US\", \"state\": \"NM\", \"display_address\": [\"5701 Gibson Blvd SE\", \"Albuquerque, NM 87108\"]}, \"phone\": \"+15058594298\", \"display_phone\": \"(505) 859-4298\", \"distance\": 6974.481854588378}]"
   ]
  },
  {
   "cell_type": "code",
   "execution_count": 2,
   "metadata": {},
   "outputs": [],
   "source": [
    "restaurants = list(map(lambda restaurant: dict(name=restaurant['name'], \n",
    "                                           price=restaurant['price'], \n",
    "                                           is_closed=restaurant['is_closed'],\n",
    "                                           review_count=restaurant['review_count'],\n",
    "                                          ), yelp_restaurants))"
   ]
  },
  {
   "cell_type": "code",
   "execution_count": 3,
   "metadata": {},
   "outputs": [
    {
     "data": {
      "text/plain": [
       "[{'name': 'Fork & Fig',\n",
       "  'price': '$$',\n",
       "  'is_closed': False,\n",
       "  'review_count': 610},\n",
       " {'name': 'Salt And Board',\n",
       "  'price': '$$',\n",
       "  'is_closed': False,\n",
       "  'review_count': 11},\n",
       " {'name': 'Frontier Restaurant',\n",
       "  'price': '$',\n",
       "  'is_closed': False,\n",
       "  'review_count': 1373},\n",
       " {'name': 'Nexus Brewery',\n",
       "  'price': '$$',\n",
       "  'is_closed': False,\n",
       "  'review_count': 680},\n",
       " {'name': \"Devon's Pop Smoke\",\n",
       "  'price': '$$',\n",
       "  'is_closed': False,\n",
       "  'review_count': 54},\n",
       " {'name': 'Cocina Azul',\n",
       "  'price': '$$',\n",
       "  'is_closed': True,\n",
       "  'review_count': 647},\n",
       " {'name': 'Philly Steaks',\n",
       "  'price': '$$',\n",
       "  'is_closed': False,\n",
       "  'review_count': 25},\n",
       " {'name': 'Stripes Biscuit',\n",
       "  'price': '$$',\n",
       "  'is_closed': True,\n",
       "  'review_count': 20}]"
      ]
     },
     "execution_count": 3,
     "metadata": {},
     "output_type": "execute_result"
    }
   ],
   "source": [
    "restaurants"
   ]
  },
  {
   "cell_type": "code",
   "execution_count": 8,
   "metadata": {},
   "outputs": [
    {
     "data": {
      "text/plain": [
       "['Fork & Fig',\n",
       " 'Salt And Board',\n",
       " 'Frontier Restaurant',\n",
       " 'Nexus Brewery',\n",
       " \"Devon's Pop Smoke\",\n",
       " 'Cocina Azul',\n",
       " 'Philly Steaks',\n",
       " 'Stripes Biscuit']"
      ]
     },
     "execution_count": 8,
     "metadata": {},
     "output_type": "execute_result"
    }
   ],
   "source": [
    "names = list(map(lambda x: x.get('name'), restaurants))           #https://stackoverflow.com/questions/7900882/extract-item-from-list-of-dictionaries\n",
    "names\n",
    "# ['Fork & Fig',\n",
    "#  'Salt And Board',\n",
    "#  'Frontier Restaurant',\n",
    "#  'Nexus Brewery',\n",
    "#  \"Devon's Pop Smoke\",\n",
    "#  'Cocina Azul',\n",
    "#  'Philly Steaks',\n",
    "#  'Stripes Biscuit']"
   ]
  },
  {
   "cell_type": "code",
   "execution_count": 9,
   "metadata": {},
   "outputs": [
    {
     "data": {
      "text/plain": [
       "[610, 11, 1373, 680, 54, 647, 25, 20]"
      ]
     },
     "execution_count": 9,
     "metadata": {},
     "output_type": "execute_result"
    }
   ],
   "source": [
    "review_counts = list(map(lambda x: x.get('review_count'), restaurants))\n",
    "review_counts # [610, 11, 1373, 680, 54, 647, 25, 20]"
   ]
  },
  {
   "cell_type": "code",
   "execution_count": 11,
   "metadata": {},
   "outputs": [
    {
     "data": {
      "text/plain": [
       "3420"
      ]
     },
     "execution_count": 11,
     "metadata": {},
     "output_type": "execute_result"
    }
   ],
   "source": [
    "total_reviews = sum(review_counts)            #https://stackoverflow.com/questions/4362586/sum-a-list-of-numbers-in-python\n",
    "total_reviews # 3420"
   ]
  },
  {
   "cell_type": "code",
   "execution_count": 12,
   "metadata": {},
   "outputs": [],
   "source": [
    "def format_restaurant(restaurant):\n",
    "    if type(restaurant['price']) == str:\n",
    "        restaurant['price'] = len(restaurant['price'])\n",
    "    return restaurant"
   ]
  },
  {
   "cell_type": "code",
   "execution_count": 13,
   "metadata": {},
   "outputs": [
    {
     "data": {
      "text/plain": [
       "{'name': 'Fork & Fig', 'price': 2, 'is_closed': False, 'review_count': 610}"
      ]
     },
     "execution_count": 13,
     "metadata": {},
     "output_type": "execute_result"
    }
   ],
   "source": [
    "format_restaurant(restaurants[0]) # {'is_closed': False, 'name': 'Fork & Fig', 'price': 2, 'review_count': 610}"
   ]
  },
  {
   "cell_type": "code",
   "execution_count": 20,
   "metadata": {},
   "outputs": [],
   "source": [
    "def map_format_restaurants(restaurants):\n",
    "    list(map(format_restaurant, restaurants))\n",
    "    return restaurants"
   ]
  },
  {
   "cell_type": "code",
   "execution_count": 21,
   "metadata": {},
   "outputs": [
    {
     "data": {
      "text/plain": [
       "[{'name': 'Fork & Fig', 'price': 2, 'is_closed': False, 'review_count': 610},\n",
       " {'name': 'Salt And Board',\n",
       "  'price': 2,\n",
       "  'is_closed': False,\n",
       "  'review_count': 11},\n",
       " {'name': 'Frontier Restaurant',\n",
       "  'price': 1,\n",
       "  'is_closed': False,\n",
       "  'review_count': 1373},\n",
       " {'name': 'Nexus Brewery',\n",
       "  'price': 2,\n",
       "  'is_closed': False,\n",
       "  'review_count': 680},\n",
       " {'name': \"Devon's Pop Smoke\",\n",
       "  'price': 2,\n",
       "  'is_closed': False,\n",
       "  'review_count': 54},\n",
       " {'name': 'Cocina Azul', 'price': 2, 'is_closed': True, 'review_count': 647},\n",
       " {'name': 'Philly Steaks', 'price': 2, 'is_closed': False, 'review_count': 25},\n",
       " {'name': 'Stripes Biscuit',\n",
       "  'price': 2,\n",
       "  'is_closed': True,\n",
       "  'review_count': 20}]"
      ]
     },
     "execution_count": 21,
     "metadata": {},
     "output_type": "execute_result"
    }
   ],
   "source": [
    "map_format_restaurants(restaurants)"
   ]
  },
  {
   "cell_type": "code",
   "execution_count": 75,
   "metadata": {},
   "outputs": [],
   "source": [
    "def cheapest_restaurants(restaurants):\n",
    "    return list(filter(lambda x: x.get('price') == 1, restaurants))"
   ]
  },
  {
   "cell_type": "code",
   "execution_count": 82,
   "metadata": {},
   "outputs": [
    {
     "data": {
      "text/plain": [
       "[{'name': 'Frontier Restaurant',\n",
       "  'price': 1,\n",
       "  'is_closed': False,\n",
       "  'review_count': 1373}]"
      ]
     },
     "execution_count": 82,
     "metadata": {},
     "output_type": "execute_result"
    }
   ],
   "source": [
    "cheapest_restaurants(restaurants)\n",
    "\n",
    "# [{'is_closed': False,\n",
    "#   'name': 'Frontier Restaurant',\n",
    "#   'price': 1,\n",
    "#   'review_count': 1373}]"
   ]
  },
  {
   "cell_type": "code",
   "execution_count": 83,
   "metadata": {},
   "outputs": [],
   "source": [
    "def sufficiently_reviewed_restaurants(restaurants):\n",
    "    return list(filter(lambda x: x.get('review_count') >= 100, restaurants))"
   ]
  },
  {
   "cell_type": "code",
   "execution_count": 84,
   "metadata": {},
   "outputs": [
    {
     "data": {
      "text/plain": [
       "[{'name': 'Fork & Fig', 'price': 2, 'is_closed': False, 'review_count': 610},\n",
       " {'name': 'Frontier Restaurant',\n",
       "  'price': 1,\n",
       "  'is_closed': False,\n",
       "  'review_count': 1373},\n",
       " {'name': 'Nexus Brewery',\n",
       "  'price': 2,\n",
       "  'is_closed': False,\n",
       "  'review_count': 680},\n",
       " {'name': 'Cocina Azul', 'price': 2, 'is_closed': True, 'review_count': 647}]"
      ]
     },
     "execution_count": 84,
     "metadata": {},
     "output_type": "execute_result"
    }
   ],
   "source": [
    "sufficiently_reviewed_restaurants(restaurants)\n",
    "\n",
    "# [{'name': 'Fork & Fig', 'price': 2, 'is_closed': False, 'review_count': 610},\n",
    "#  {'name': 'Frontier Restaurant', 'price': 1, 'is_closed': False,  'review_count': 1373},\n",
    "#  {'name': 'Nexus Brewery', 'price': 2, 'is_closed': False, 'review_count': 680},\n",
    "#  {'name': 'Cocina Azul', 'price': 2, 'is_closed': True, 'review_count': 647}]"
   ]
  }
 ],
 "metadata": {
  "kernelspec": {
   "display_name": "Python 3",
   "language": "python",
   "name": "python3"
  },
  "language_info": {
   "codemirror_mode": {
    "name": "ipython",
    "version": 3
   },
   "file_extension": ".py",
   "mimetype": "text/x-python",
   "name": "python",
   "nbconvert_exporter": "python",
   "pygments_lexer": "ipython3",
   "version": "3.6.5"
  }
 },
 "nbformat": 4,
 "nbformat_minor": 2
}
